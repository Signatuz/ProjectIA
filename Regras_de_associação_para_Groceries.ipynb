{
  "nbformat": 4,
  "nbformat_minor": 0,
  "metadata": {
    "colab": {
      "name": "Regras de associação para  Groceries.ipynb",
      "provenance": []
    },
    "kernelspec": {
      "name": "python3",
      "display_name": "Python 3",
      "language": "python"
    }
  },
  "cells": [
    {
      "cell_type": "markdown",
      "metadata": {
        "id": "2I9rH1ZFLrhE"
      },
      "source": [
        "# Regras de associação: Groceries"
      ]
    },
    {
      "cell_type": "markdown",
      "metadata": {
        "id": "nVSb8cE4LFPl"
      },
      "source": [
        "##1 - Instalação das bibliotecas\r\n",
        "\r\n"
      ]
    },
    {
      "cell_type": "code",
      "metadata": {
        "id": "Abba1jp2MA0z"
      },
      "source": [
        "import signal\n",
        "import os\n",
        "from collections import Counter\n",
        "from itertools import combinations\n",
        "from datetime import datetime\n",
        "\n",
        "\n",
        "import pandas as pd\n",
        "import numpy as np\n",
        "import seaborn as sns\n",
        "import matplotlib.pyplot as plt\n"
      ],
      "execution_count": 3,
      "outputs": []
    },
    {
      "source": [
        "## Definição do algoritmo apriori"
      ],
      "cell_type": "markdown",
      "metadata": {}
    },
    {
      "cell_type": "code",
      "execution_count": 4,
      "metadata": {},
      "outputs": [],
      "source": [
        "def apriori_algoritmo(np_base_binaria, min_sup = 0.2, timeout = 120):\n",
        "\n",
        "    def timeout_function(signum, frame):\n",
        "        raise Exception(\"Timeout exceeded. Choose a higher min_sup or let algorithm work more by increasing timeout\")\n",
        "\n",
        "    num_itens = len(np_base_binaria[0])\n",
        "    num_transacoes = len(np_base_binaria)\n",
        "\n",
        "    support_itemset = {}\n",
        "    itens = range(num_itens)\n",
        "\n",
        "    signal.signal(signal.SIGALRM, timeout_function)\n",
        "    signal.alarm(timeout)\n",
        "\n",
        "    for num_itemset in range(1, num_itens + 1):\n",
        "        itemsets = combinations(itens, num_itemset)\n",
        "        itens = set()\n",
        "        for itemset in itemsets:\n",
        "            frequency_itemset = 0\n",
        "            for transacao in np_base_binaria:\n",
        "                frequency_itemset += all(transacao[list(itemset)])\n",
        "            if (frequency_itemset / num_transacoes) >= min_sup:\n",
        "                itens.update(itemset)\n",
        "                support_itemset[itemset] = frequency_itemset / num_transacoes\n",
        "        if not itens:\n",
        "            break\n",
        "\n",
        "    return support_itemset"
      ]
    },
    {
      "cell_type": "markdown",
      "metadata": {
        "id": "_Oiq8f-oS7fQ"
      },
      "source": [
        "## 2- Obter os dados"
      ]
    },
    {
      "cell_type": "markdown",
      "metadata": {
        "id": "qRzpTeTc44O1"
      },
      "source": [
        "## 3- Inspeção dos dados"
      ]
    },
    {
      "cell_type": "code",
      "metadata": {
        "id": "lRnieX61X0BS"
      },
      "source": [
        "dados = pd.read_csv('Groceries_dataset.csv')"
      ],
      "execution_count": 5,
      "outputs": []
    },
    {
      "cell_type": "code",
      "metadata": {
        "colab": {
          "base_uri": "https://localhost:8080/"
        },
        "id": "w47yYX97YOmu",
        "outputId": "383a9b44-2ce0-409c-80c4-aaa1f13c456c"
      },
      "source": [
        "dados.dtypes"
      ],
      "execution_count": 8,
      "outputs": [
        {
          "output_type": "execute_result",
          "data": {
            "text/plain": [
              "Member_number       int64\n",
              "Date               object\n",
              "itemDescription    object\n",
              "dtype: object"
            ]
          },
          "metadata": {},
          "execution_count": 8
        }
      ]
    },
    {
      "cell_type": "code",
      "metadata": {
        "colab": {
          "base_uri": "https://localhost:8080/",
          "height": 402
        },
        "id": "hBJKnSieYS_m",
        "outputId": "ce272fbc-86ce-4a46-c883-4b26720bfb57"
      },
      "source": [
        "dados.head()"
      ],
      "execution_count": 9,
      "outputs": [
        {
          "output_type": "execute_result",
          "data": {
            "text/plain": [
              "   Member_number        Date   itemDescription\n",
              "0           1808  21-07-2015    tropical fruit\n",
              "1           2552  05-01-2015        whole milk\n",
              "2           2300  19-09-2015         pip fruit\n",
              "3           1187  12-12-2015  other vegetables\n",
              "4           3037  01-02-2015        whole milk"
            ],
            "text/html": "<div>\n<style scoped>\n    .dataframe tbody tr th:only-of-type {\n        vertical-align: middle;\n    }\n\n    .dataframe tbody tr th {\n        vertical-align: top;\n    }\n\n    .dataframe thead th {\n        text-align: right;\n    }\n</style>\n<table border=\"1\" class=\"dataframe\">\n  <thead>\n    <tr style=\"text-align: right;\">\n      <th></th>\n      <th>Member_number</th>\n      <th>Date</th>\n      <th>itemDescription</th>\n    </tr>\n  </thead>\n  <tbody>\n    <tr>\n      <th>0</th>\n      <td>1808</td>\n      <td>21-07-2015</td>\n      <td>tropical fruit</td>\n    </tr>\n    <tr>\n      <th>1</th>\n      <td>2552</td>\n      <td>05-01-2015</td>\n      <td>whole milk</td>\n    </tr>\n    <tr>\n      <th>2</th>\n      <td>2300</td>\n      <td>19-09-2015</td>\n      <td>pip fruit</td>\n    </tr>\n    <tr>\n      <th>3</th>\n      <td>1187</td>\n      <td>12-12-2015</td>\n      <td>other vegetables</td>\n    </tr>\n    <tr>\n      <th>4</th>\n      <td>3037</td>\n      <td>01-02-2015</td>\n      <td>whole milk</td>\n    </tr>\n  </tbody>\n</table>\n</div>"
          },
          "metadata": {},
          "execution_count": 9
        }
      ]
    },
    {
      "cell_type": "code",
      "execution_count": 6,
      "metadata": {},
      "outputs": [
        {
          "output_type": "execute_result",
          "data": {
            "text/plain": [
              "Member_number      38765\n",
              "Date               38765\n",
              "itemDescription    38765\n",
              "dtype: int64"
            ]
          },
          "metadata": {},
          "execution_count": 6
        }
      ],
      "source": [
        "dados.count()"
      ]
    },
    {
      "cell_type": "code",
      "metadata": {
        "colab": {
          "base_uri": "https://localhost:8080/"
        },
        "id": "EQDWRn0KYwgo",
        "outputId": "79423e85-0d80-4048-ce8a-64c4424b2063"
      },
      "source": [
        "dados.isna().sum(axis = 0)"
      ],
      "execution_count": null,
      "outputs": [
        {
          "output_type": "execute_result",
          "data": {
            "text/plain": [
              "Member_number      0\n",
              "Date               0\n",
              "itemDescription    0\n",
              "dtype: int64"
            ]
          },
          "metadata": {
            "tags": []
          },
          "execution_count": 12
        }
      ]
    },
    {
      "cell_type": "markdown",
      "metadata": {
        "id": "dN2MczoeY-Ko"
      },
      "source": [
        "*Podemos analisar que o banco de dados não possui nenhum valor em branco*"
      ]
    },
    {
      "source": [
        "Cada transação pode ser definida como a chave composta pelas colunas **Member_number** e **date**, ou seja, diz o cliente que fez a compra e a data da compra."
      ],
      "cell_type": "markdown",
      "metadata": {
        "colab": {
          "base_uri": "https://localhost:8080/"
        },
        "id": "uXH21HglZNxO",
        "outputId": "402204d2-d8ba-44f7-91fa-cc6d3776e12c"
      }
    },
    {
      "cell_type": "code",
      "execution_count": 14,
      "metadata": {},
      "outputs": [
        {
          "output_type": "execute_result",
          "data": {
            "text/plain": [
              "167"
            ]
          },
          "metadata": {},
          "execution_count": 14
        }
      ],
      "source": [
        "dados.itemDescription.nunique()"
      ]
    },
    {
      "cell_type": "code",
      "execution_count": 9,
      "metadata": {},
      "outputs": [
        {
          "output_type": "execute_result",
          "data": {
            "text/plain": [
              "14963"
            ]
          },
          "metadata": {},
          "execution_count": 9
        }
      ],
      "source": [
        "dados.groupby(['Member_number', 'Date']).ngroups"
      ]
    },
    {
      "source": [
        "O número de transações no conjunto de dados é 14963."
      ],
      "cell_type": "markdown",
      "metadata": {}
    },
    {
      "cell_type": "code",
      "execution_count": 8,
      "metadata": {},
      "outputs": [],
      "source": [
        "lista_ordenada_items = list(set(list(dados['itemDescription'])))\n",
        "\n",
        "lista_ordenada_items.sort()\n",
        "\n",
        "dados['codigoItem'] = dados['itemDescription'].apply(lambda item: lista_ordenada_items.index(item))"
      ]
    },
    {
      "cell_type": "code",
      "execution_count": 9,
      "metadata": {},
      "outputs": [],
      "source": [
        "lista_ordenada_transacoes = list(set(list(zip(list(dados['Date']), list(dados['Member_number'])))))\n",
        "\n",
        "lista_ordenada_transacoes.sort()\n",
        "\n",
        "dados['codigoTransacao'] = np.vectorize(lambda x, y : lista_ordenada_transacoes.index((x,y)))(dados['Date'], dados['Member_number'])"
      ]
    },
    {
      "cell_type": "code",
      "execution_count": 10,
      "metadata": {},
      "outputs": [],
      "source": [
        "items = dados[['codigoItem', 'itemDescription']].drop_duplicates().sort_values(by='codigoItem')"
      ]
    },
    {
      "cell_type": "code",
      "execution_count": 11,
      "metadata": {},
      "outputs": [
        {
          "output_type": "execute_result",
          "data": {
            "text/plain": [
              "      codigoItem        itemDescription\n",
              "457            0  Instant food products\n",
              "295            1               UHT-milk\n",
              "3972           2       abrasive cleaner\n",
              "980            3       artif. sweetener\n",
              "1489           4         baby cosmetics"
            ],
            "text/html": "<div>\n<style scoped>\n    .dataframe tbody tr th:only-of-type {\n        vertical-align: middle;\n    }\n\n    .dataframe tbody tr th {\n        vertical-align: top;\n    }\n\n    .dataframe thead th {\n        text-align: right;\n    }\n</style>\n<table border=\"1\" class=\"dataframe\">\n  <thead>\n    <tr style=\"text-align: right;\">\n      <th></th>\n      <th>codigoItem</th>\n      <th>itemDescription</th>\n    </tr>\n  </thead>\n  <tbody>\n    <tr>\n      <th>457</th>\n      <td>0</td>\n      <td>Instant food products</td>\n    </tr>\n    <tr>\n      <th>295</th>\n      <td>1</td>\n      <td>UHT-milk</td>\n    </tr>\n    <tr>\n      <th>3972</th>\n      <td>2</td>\n      <td>abrasive cleaner</td>\n    </tr>\n    <tr>\n      <th>980</th>\n      <td>3</td>\n      <td>artif. sweetener</td>\n    </tr>\n    <tr>\n      <th>1489</th>\n      <td>4</td>\n      <td>baby cosmetics</td>\n    </tr>\n  </tbody>\n</table>\n</div>"
          },
          "metadata": {},
          "execution_count": 11
        }
      ],
      "source": [
        "items.head()"
      ]
    },
    {
      "cell_type": "code",
      "execution_count": 12,
      "metadata": {},
      "outputs": [],
      "source": [
        "transacoes = dados[['codigoTransacao','Member_number', 'Date']].drop_duplicates().sort_values(by='codigoTransacao')"
      ]
    },
    {
      "cell_type": "code",
      "execution_count": 13,
      "metadata": {},
      "outputs": [
        {
          "output_type": "execute_result",
          "data": {
            "text/plain": [
              "       codigoTransacao  Member_number        Date\n",
              "10065                0           1249  01-01-2014\n",
              "15338                1           1381  01-01-2014\n",
              "11134                2           1440  01-01-2014\n",
              "15535                3           1659  01-01-2014\n",
              "12744                4           1789  01-01-2014"
            ],
            "text/html": "<div>\n<style scoped>\n    .dataframe tbody tr th:only-of-type {\n        vertical-align: middle;\n    }\n\n    .dataframe tbody tr th {\n        vertical-align: top;\n    }\n\n    .dataframe thead th {\n        text-align: right;\n    }\n</style>\n<table border=\"1\" class=\"dataframe\">\n  <thead>\n    <tr style=\"text-align: right;\">\n      <th></th>\n      <th>codigoTransacao</th>\n      <th>Member_number</th>\n      <th>Date</th>\n    </tr>\n  </thead>\n  <tbody>\n    <tr>\n      <th>10065</th>\n      <td>0</td>\n      <td>1249</td>\n      <td>01-01-2014</td>\n    </tr>\n    <tr>\n      <th>15338</th>\n      <td>1</td>\n      <td>1381</td>\n      <td>01-01-2014</td>\n    </tr>\n    <tr>\n      <th>11134</th>\n      <td>2</td>\n      <td>1440</td>\n      <td>01-01-2014</td>\n    </tr>\n    <tr>\n      <th>15535</th>\n      <td>3</td>\n      <td>1659</td>\n      <td>01-01-2014</td>\n    </tr>\n    <tr>\n      <th>12744</th>\n      <td>4</td>\n      <td>1789</td>\n      <td>01-01-2014</td>\n    </tr>\n  </tbody>\n</table>\n</div>"
          },
          "metadata": {},
          "execution_count": 13
        }
      ],
      "source": [
        "transacoes.head()"
      ]
    },
    {
      "cell_type": "code",
      "metadata": {
        "colab": {
          "base_uri": "https://localhost:8080/"
        },
        "id": "ouLOjSxlcYDs",
        "outputId": "e049549d-a39a-40d9-fe8e-897d55eb39f9"
      },
      "source": [
        "transacoesvsprodutos = dados[['codigoTransacao', 'codigoItem']]"
      ],
      "execution_count": 15,
      "outputs": []
    },
    {
      "cell_type": "code",
      "execution_count": 16,
      "metadata": {},
      "outputs": [
        {
          "output_type": "execute_result",
          "data": {
            "text/plain": [
              "   codigoTransacao  codigoItem\n",
              "0            10064         156\n",
              "1             2031         164\n",
              "2             9149         109\n",
              "3             5844         102\n",
              "4               74         164\n",
              "5             6470         122\n",
              "6             3660         102\n",
              "7            11271         112\n",
              "8             9403         164\n",
              "9             5465         156"
            ],
            "text/html": "<div>\n<style scoped>\n    .dataframe tbody tr th:only-of-type {\n        vertical-align: middle;\n    }\n\n    .dataframe tbody tr th {\n        vertical-align: top;\n    }\n\n    .dataframe thead th {\n        text-align: right;\n    }\n</style>\n<table border=\"1\" class=\"dataframe\">\n  <thead>\n    <tr style=\"text-align: right;\">\n      <th></th>\n      <th>codigoTransacao</th>\n      <th>codigoItem</th>\n    </tr>\n  </thead>\n  <tbody>\n    <tr>\n      <th>0</th>\n      <td>10064</td>\n      <td>156</td>\n    </tr>\n    <tr>\n      <th>1</th>\n      <td>2031</td>\n      <td>164</td>\n    </tr>\n    <tr>\n      <th>2</th>\n      <td>9149</td>\n      <td>109</td>\n    </tr>\n    <tr>\n      <th>3</th>\n      <td>5844</td>\n      <td>102</td>\n    </tr>\n    <tr>\n      <th>4</th>\n      <td>74</td>\n      <td>164</td>\n    </tr>\n    <tr>\n      <th>5</th>\n      <td>6470</td>\n      <td>122</td>\n    </tr>\n    <tr>\n      <th>6</th>\n      <td>3660</td>\n      <td>102</td>\n    </tr>\n    <tr>\n      <th>7</th>\n      <td>11271</td>\n      <td>112</td>\n    </tr>\n    <tr>\n      <th>8</th>\n      <td>9403</td>\n      <td>164</td>\n    </tr>\n    <tr>\n      <th>9</th>\n      <td>5465</td>\n      <td>156</td>\n    </tr>\n  </tbody>\n</table>\n</div>"
          },
          "metadata": {},
          "execution_count": 16
        }
      ],
      "source": [
        "transacoesvsprodutos.head(10)"
      ]
    },
    {
      "cell_type": "code",
      "execution_count": 17,
      "metadata": {},
      "outputs": [],
      "source": [
        "transacoes_crosstab = pd.crosstab(transacoesvsprodutos['codigoTransacao'], transacoesvsprodutos['codigoItem'])"
      ]
    },
    {
      "cell_type": "code",
      "execution_count": 18,
      "metadata": {},
      "outputs": [],
      "source": [
        "apriori_results = apriori_algoritmo(transacoes_crosstab.to_numpy(), min_sup=0.004, timeout = 240)"
      ]
    },
    {
      "cell_type": "code",
      "execution_count": 111,
      "metadata": {},
      "outputs": [],
      "source": [
        "itens_dict = {d['codigoItem'] : d['itemDescription'] for d in items.to_dict('records')}"
      ]
    },
    {
      "cell_type": "code",
      "execution_count": 131,
      "metadata": {},
      "outputs": [],
      "source": [
        "apriori_results_traduzido = {tuple(itens_dict[codigoItem] for codigoItem in result) : apriori_results[result] for result in apriori_results}"
      ]
    },
    {
      "cell_type": "code",
      "execution_count": 138,
      "metadata": {},
      "outputs": [],
      "source": [
        "dados['itemDescription'].drop_duplicates().to_csv('itemDescription')"
      ]
    },
    {
      "cell_type": "code",
      "execution_count": 157,
      "metadata": {},
      "outputs": [
        {
          "output_type": "execute_result",
          "data": {
            "text/plain": [
              "0.03554803216250529"
            ]
          },
          "metadata": {},
          "execution_count": 157
        }
      ],
      "source": [
        "apriori_results_traduzido[('newspapers','whole milk')] / apriori_results_traduzido[('whole milk',)]"
      ]
    },
    {
      "cell_type": "code",
      "execution_count": 158,
      "metadata": {},
      "outputs": [
        {
          "output_type": "execute_result",
          "data": {
            "text/plain": [
              "0.9139264694975372"
            ]
          },
          "metadata": {},
          "execution_count": 158
        }
      ],
      "source": [
        "apriori_results_traduzido[('newspapers', 'whole milk')] / (apriori_results_traduzido[('whole milk',)] * apriori_results_traduzido[('newspapers',)])"
      ]
    },
    {
      "cell_type": "code",
      "execution_count": null,
      "metadata": {},
      "outputs": [],
      "source": []
    }
  ]
}